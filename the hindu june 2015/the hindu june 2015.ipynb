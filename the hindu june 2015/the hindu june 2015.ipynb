{
 "cells": [
  {
   "cell_type": "code",
   "execution_count": 87,
   "metadata": {},
   "outputs": [],
   "source": [
    "#import all libraries\n",
    "\n",
    "import urllib.request\n",
    "from bs4 import BeautifulSoup\n",
    "import requests\n",
    "import selenium\n",
    "import pandas as pd\n",
    "from selenium import webdriver\n",
    "import time\n",
    "import re \n",
    "\n",
    "from selenium.common.exceptions import StaleElementReferenceException, NoSuchElementException\n",
    "\n",
    "from selenium.webdriver.common.by import By\n",
    "from selenium.webdriver.support.ui import WebDriverWait\n",
    "from selenium.webdriver.support import expected_conditions as EC"
   ]
  },
  {
   "cell_type": "code",
   "execution_count": 88,
   "metadata": {},
   "outputs": [],
   "source": [
    "#lets first connect to web driver\n",
    "driver= webdriver.Chrome('chromedriver.exe')\n",
    "#first get the webpage\n",
    "driver.get('https://www.thehindu.com/archive/')"
   ]
  },
  {
   "cell_type": "code",
   "execution_count": 89,
   "metadata": {},
   "outputs": [],
   "source": [
    "jun_15=driver.find_element_by_xpath(\"//ul[7][@class='archiveMonthList']/li[6]/a\")\n",
    "driver.get(jun_15.get_attribute(\"href\"))\n"
   ]
  },
  {
   "cell_type": "code",
   "execution_count": 90,
   "metadata": {},
   "outputs": [],
   "source": [
    "page=requests.get('https://www.thehindu.com/archive/web/2015/06/')\n"
   ]
  },
  {
   "cell_type": "code",
   "execution_count": 91,
   "metadata": {},
   "outputs": [],
   "source": [
    "date=[]\n",
    "soup = BeautifulSoup(page.text, 'html.parser')\n",
    "block = soup.find('table', class_='archiveTable')\n",
    "link = block.find_all('a')\n",
    "#Scrapping Date Link\n",
    "for i in link:\n",
    "    date.append(i.get('href'))"
   ]
  },
  {
   "cell_type": "code",
   "execution_count": 92,
   "metadata": {},
   "outputs": [],
   "source": [
    "news_link=[]\n",
    "#Scrapiing All news Link\n",
    "for i in date:\n",
    "    page=requests.get(i)\n",
    "    soup = BeautifulSoup(page.text, 'html.parser')\n",
    "    col = soup.find('div', class_='tpaper-container')\n",
    "    sec = col.find_all('section')\n",
    "    for i in sec:\n",
    "        b = i.find_all('ul', class_='archive-list')\n",
    "        for j in b:\n",
    "            c = j.find_all('a')\n",
    "            for k in c:\n",
    "                news_link.append(k.get('href'))"
   ]
  },
  {
   "cell_type": "code",
   "execution_count": 111,
   "metadata": {},
   "outputs": [],
   "source": [
    "verticals=[]\n",
    "authors=[]\n",
    "Headlines=[]\n",
    "time=[]"
   ]
  },
  {
   "cell_type": "code",
   "execution_count": 117,
   "metadata": {},
   "outputs": [],
   "source": [
    "for i in news_link:\n",
    "    page=requests.get(i)\n",
    "    soup = BeautifulSoup(page.text, 'html.parser')\n",
    "    \n",
    "    #Scrapping Verticals\n",
    "    try:\n",
    "        ver1 = soup.find('div', class_='article')\n",
    "        ver2 = ver1.find('div', class_='article-exclusive').a.text.replace('\\n','')\n",
    "        verticals.append(ver2)\n",
    "    except AttributeError:\n",
    "        verticals.append('')\n",
    "    \n",
    "    #Scrapping Heading\n",
    "    try:\n",
    "        h1 = soup.find('div', class_='article').div.h1.text.replace('\\n','')\n",
    "        Headlines.append(h1)\n",
    "    except AttributeError:\n",
    "        Headlines.append('')\n",
    "    \n",
    "    #Scrapping Date of Upload\n",
    "    try:\n",
    "        d1 = soup.find('div', class_='article')\n",
    "        d2 = d1.find('div', class_='ut-container')\n",
    "        d3 = d2.find_all('span')\n",
    "        d4 = d3[1].text.replace('\\n','')\n",
    "        time.append(d4)\n",
    "    except AttributeError:\n",
    "        time.append('')\n",
    "    \n",
    "    #Scrapping Author Name\n",
    "    try:\n",
    "        a1 = soup.find('div', class_='article')\n",
    "        a2 = d1.find('div', class_='author-container hidden-xs').span.text.replace('\\n','')\n",
    "        authors.append(a2)\n",
    "    except AttributeError:\n",
    "        authors.append('')\n",
    "     \n",
    " "
   ]
  },
  {
   "cell_type": "code",
   "execution_count": 99,
   "metadata": {},
   "outputs": [],
   "source": [
    "for i in news_link:\n",
    "    driver.get(i)\n",
    "    timeout=12\n",
    "    \n",
    "    \n",
    "    des = driver.find_elements_by_xpath(\"//div[@class='article']/div[3]\")\n",
    "    for i in des:\n",
    "        description.append(i.text.replace('\\n','').replace('\\n\\n','').replace('\\n\\n\\n',''))"
   ]
  },
  {
   "cell_type": "code",
   "execution_count": 128,
   "metadata": {},
   "outputs": [
    {
     "name": "stdout",
     "output_type": "stream",
     "text": [
      "16902 16902 16902 16902 16902\n"
     ]
    }
   ],
   "source": [
    "print(len(authors),len(verticals),len(Headlines),len(time),len(description))"
   ]
  },
  {
   "cell_type": "code",
   "execution_count": 120,
   "metadata": {},
   "outputs": [
    {
     "data": {
      "text/html": [
       "<div>\n",
       "<style scoped>\n",
       "    .dataframe tbody tr th:only-of-type {\n",
       "        vertical-align: middle;\n",
       "    }\n",
       "\n",
       "    .dataframe tbody tr th {\n",
       "        vertical-align: top;\n",
       "    }\n",
       "\n",
       "    .dataframe thead th {\n",
       "        text-align: right;\n",
       "    }\n",
       "</style>\n",
       "<table border=\"1\" class=\"dataframe\">\n",
       "  <thead>\n",
       "    <tr style=\"text-align: right;\">\n",
       "      <th></th>\n",
       "      <th>Date_and_time_of_upload</th>\n",
       "      <th>Author_name</th>\n",
       "      <th>Topic_or_Vertical</th>\n",
       "      <th>Headlines</th>\n",
       "      <th>Description</th>\n",
       "    </tr>\n",
       "  </thead>\n",
       "  <tbody>\n",
       "    <tr>\n",
       "      <th>0</th>\n",
       "      <td>June 01, 2015 12:15 IST</td>\n",
       "      <td>PTI</td>\n",
       "      <td>Other Sports</td>\n",
       "      <td>Bhanot elected Asian Athletics Association vic...</td>\n",
       "      <td>He is currently the chairman of AFI’s Planning...</td>\n",
       "    </tr>\n",
       "    <tr>\n",
       "      <th>1</th>\n",
       "      <td>June 01, 2015 02:17 IST</td>\n",
       "      <td>AP</td>\n",
       "      <td>Other Sports</td>\n",
       "      <td>Injured Lavillenie wins</td>\n",
       "      <td>Gold for Gatlin and GayKirani James won the 40...</td>\n",
       "    </tr>\n",
       "    <tr>\n",
       "      <th>2</th>\n",
       "      <td>June 01, 2015 00:33 IST</td>\n",
       "      <td>BENGALURU:,</td>\n",
       "      <td>Races</td>\n",
       "      <td>Smile Stone bags feature event</td>\n",
       "      <td>Mr. K. Mallikarjuna Rao’s Smile Stone (Suraj N...</td>\n",
       "    </tr>\n",
       "    <tr>\n",
       "      <th>3</th>\n",
       "      <td>June 01, 2015 00:32 IST</td>\n",
       "      <td>UDHAGAMANDALAM:,</td>\n",
       "      <td>Races</td>\n",
       "      <td>Panthera appeals most</td>\n",
       "      <td>Panthera appeals most in the Vellore Plate (1,...</td>\n",
       "    </tr>\n",
       "    <tr>\n",
       "      <th>4</th>\n",
       "      <td>June 01, 2015 20:47 IST</td>\n",
       "      <td>AP</td>\n",
       "      <td>Tennis</td>\n",
       "      <td>Serena edges Sloane Stephens at French Open</td>\n",
       "      <td>Serena Williams came back to edge Sloane Steph...</td>\n",
       "    </tr>\n",
       "    <tr>\n",
       "      <th>...</th>\n",
       "      <td>...</td>\n",
       "      <td>...</td>\n",
       "      <td>...</td>\n",
       "      <td>...</td>\n",
       "      <td>...</td>\n",
       "    </tr>\n",
       "    <tr>\n",
       "      <th>16897</th>\n",
       "      <td>July 03, 2015 03:11 IST</td>\n",
       "      <td>Lalithaa Krishnan</td>\n",
       "      <td>Friday Review</td>\n",
       "      <td>Art imitates ART</td>\n",
       "      <td>Self-taught artist Sajeesh Areeppurath’s fasci...</td>\n",
       "    </tr>\n",
       "    <tr>\n",
       "      <th>16898</th>\n",
       "      <td>June 30, 2015 22:26 IST</td>\n",
       "      <td>Vidya Venkat</td>\n",
       "      <td>Environment</td>\n",
       "      <td>Green Climate Fund to become operational soon</td>\n",
       "      <td>The $100-billion Green Climate Fund will soon ...</td>\n",
       "    </tr>\n",
       "    <tr>\n",
       "      <th>16899</th>\n",
       "      <td>June 30, 2015 21:55 IST</td>\n",
       "      <td>June 30, 2015 21:55 IST</td>\n",
       "      <td>Faith</td>\n",
       "      <td>The highest knowledge</td>\n",
       "      <td>The term Vedanta literally means the end of th...</td>\n",
       "    </tr>\n",
       "    <tr>\n",
       "      <th>16900</th>\n",
       "      <td>July 02, 2015 18:26 IST</td>\n",
       "      <td>V. V. RAMANI</td>\n",
       "      <td>Music</td>\n",
       "      <td>Musical boundaries merged in Naada Yoga</td>\n",
       "      <td>Veterans shared the stage with youngsters and ...</td>\n",
       "    </tr>\n",
       "    <tr>\n",
       "      <th>16901</th>\n",
       "      <td>June 30, 2015 22:25 IST</td>\n",
       "      <td>Agencies</td>\n",
       "      <td>Science</td>\n",
       "      <td>Google Earth gets a new suite of features</td>\n",
       "      <td>Ten-year-old Google Earth upgrades all the fiv...</td>\n",
       "    </tr>\n",
       "  </tbody>\n",
       "</table>\n",
       "<p>16902 rows × 5 columns</p>\n",
       "</div>"
      ],
      "text/plain": [
       "       Date_and_time_of_upload              Author_name Topic_or_Vertical  \\\n",
       "0      June 01, 2015 12:15 IST                      PTI      Other Sports   \n",
       "1      June 01, 2015 02:17 IST                       AP      Other Sports   \n",
       "2      June 01, 2015 00:33 IST              BENGALURU:,             Races   \n",
       "3      June 01, 2015 00:32 IST         UDHAGAMANDALAM:,             Races   \n",
       "4      June 01, 2015 20:47 IST                       AP            Tennis   \n",
       "...                        ...                      ...               ...   \n",
       "16897  July 03, 2015 03:11 IST        Lalithaa Krishnan     Friday Review   \n",
       "16898  June 30, 2015 22:26 IST             Vidya Venkat       Environment   \n",
       "16899  June 30, 2015 21:55 IST  June 30, 2015 21:55 IST             Faith   \n",
       "16900  July 02, 2015 18:26 IST             V. V. RAMANI             Music   \n",
       "16901  June 30, 2015 22:25 IST                 Agencies           Science   \n",
       "\n",
       "                                               Headlines  \\\n",
       "0      Bhanot elected Asian Athletics Association vic...   \n",
       "1                                Injured Lavillenie wins   \n",
       "2                         Smile Stone bags feature event   \n",
       "3                                  Panthera appeals most   \n",
       "4            Serena edges Sloane Stephens at French Open   \n",
       "...                                                  ...   \n",
       "16897                                   Art imitates ART   \n",
       "16898      Green Climate Fund to become operational soon   \n",
       "16899                              The highest knowledge   \n",
       "16900            Musical boundaries merged in Naada Yoga   \n",
       "16901          Google Earth gets a new suite of features   \n",
       "\n",
       "                                             Description  \n",
       "0      He is currently the chairman of AFI’s Planning...  \n",
       "1      Gold for Gatlin and GayKirani James won the 40...  \n",
       "2      Mr. K. Mallikarjuna Rao’s Smile Stone (Suraj N...  \n",
       "3      Panthera appeals most in the Vellore Plate (1,...  \n",
       "4      Serena Williams came back to edge Sloane Steph...  \n",
       "...                                                  ...  \n",
       "16897  Self-taught artist Sajeesh Areeppurath’s fasci...  \n",
       "16898  The $100-billion Green Climate Fund will soon ...  \n",
       "16899  The term Vedanta literally means the end of th...  \n",
       "16900  Veterans shared the stage with youngsters and ...  \n",
       "16901  Ten-year-old Google Earth upgrades all the fiv...  \n",
       "\n",
       "[16902 rows x 5 columns]"
      ]
     },
     "execution_count": 120,
     "metadata": {},
     "output_type": "execute_result"
    }
   ],
   "source": [
    "#creating dataframe\n",
    "TheHindu=pd.DataFrame({})\n",
    "TheHindu['Date_and_time_of_upload']=time\n",
    "TheHindu['Author_name']=authors\n",
    "TheHindu['Topic_or_Vertical']=verticals\n",
    "TheHindu['Headlines']=Headlines\n",
    "TheHindu['Description']=description\n",
    "TheHindu"
   ]
  },
  {
   "cell_type": "code",
   "execution_count": 122,
   "metadata": {},
   "outputs": [],
   "source": [
    "#csv file\n",
    "TheHindu.to_csv('the_hindu_june_2015.csv')"
   ]
  },
  {
   "cell_type": "code",
   "execution_count": 123,
   "metadata": {},
   "outputs": [],
   "source": [
    "#saving as json file\n",
    "import json\n",
    "\n",
    "thehindu1=TheHindu.to_json('the_hindu_june_2015.json')"
   ]
  },
  {
   "cell_type": "code",
   "execution_count": 124,
   "metadata": {},
   "outputs": [],
   "source": [
    "with open('the_hindu_june_2015.json','r') as file:\n",
    "    t=json.load(file)"
   ]
  },
  {
   "cell_type": "code",
   "execution_count": 127,
   "metadata": {},
   "outputs": [],
   "source": [
    "#saving as xml file\n",
    "xml_data = ['<root>']\n",
    "for column in TheHindu.columns:\n",
    "    xml_data.append('<{}>'.format(column))                   \n",
    "    for field in TheHindu.index:\n",
    "        # writing sub-elements\n",
    "        xml_data.append('<{0}>{1}</{0}>'.format(field, TheHindu[column][field]))\n",
    "    xml_data.append('</{}>'.format(column))  \n",
    "xml_data.append('</root>')\n",
    "\n",
    "with open('thehindu.xml', 'w',encoding='utf-8') as f:       \n",
    "    for line in xml_data:\n",
    "        f.write(line)"
   ]
  },
  {
   "cell_type": "code",
   "execution_count": null,
   "metadata": {},
   "outputs": [],
   "source": []
  }
 ],
 "metadata": {
  "kernelspec": {
   "display_name": "Python 3",
   "language": "python",
   "name": "python3"
  },
  "language_info": {
   "codemirror_mode": {
    "name": "ipython",
    "version": 3
   },
   "file_extension": ".py",
   "mimetype": "text/x-python",
   "name": "python",
   "nbconvert_exporter": "python",
   "pygments_lexer": "ipython3",
   "version": "3.8.5"
  }
 },
 "nbformat": 4,
 "nbformat_minor": 4
}
